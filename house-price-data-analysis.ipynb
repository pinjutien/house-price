{
 "cells": [
  {
   "cell_type": "code",
   "execution_count": 1,
   "metadata": {},
   "outputs": [
    {
     "name": "stderr",
     "output_type": "stream",
     "text": [
      "Duplicate key in file '/Users/pin-jutien/.matplotlib/matplotlibrc', line 2 ('backend: TkAgg')\n"
     ]
    }
   ],
   "source": [
    "%matplotlib inline\n",
    "import pandas as pd\n",
    "import numpy as np\n",
    "import matplotlib.pyplot as plt\n",
    "import seaborn as sns"
   ]
  },
  {
   "cell_type": "code",
   "execution_count": 2,
   "metadata": {},
   "outputs": [],
   "source": [
    "df = pd.read_csv(\"train.csv\")\n",
    "target = \"TARGET(PRICE_IN_LACS)\""
   ]
  },
  {
   "cell_type": "markdown",
   "metadata": {},
   "source": [
    "\n",
    "Column\t| Description\n",
    "------|------\n",
    "POSTED_BY |\tCategory marking who has listed the property\n",
    "UNDER_CONSTRUCTION |\tUnder Construction or Not\n",
    "RERA\t| Rera approved or Not\n",
    "BHK_NO\t| Number of Rooms\n",
    "BHKORRK\t| Type of property\n",
    "SQUARE_FT | Total area of the house in square feet\n",
    "READYTOMOVE\t| Category marking Ready to move or Not\n",
    "RESALE\t| Category marking Resale or not\n",
    "ADDRESS\t| Address of the property\n",
    "LONGITUDE |\tLongitude of the property\n",
    "LATITUDE  |\tLatitude of the property\n"
   ]
  },
  {
   "cell_type": "code",
   "execution_count": 3,
   "metadata": {},
   "outputs": [
    {
     "data": {
      "text/html": [
       "<div>\n",
       "<style scoped>\n",
       "    .dataframe tbody tr th:only-of-type {\n",
       "        vertical-align: middle;\n",
       "    }\n",
       "\n",
       "    .dataframe tbody tr th {\n",
       "        vertical-align: top;\n",
       "    }\n",
       "\n",
       "    .dataframe thead th {\n",
       "        text-align: right;\n",
       "    }\n",
       "</style>\n",
       "<table border=\"1\" class=\"dataframe\">\n",
       "  <thead>\n",
       "    <tr style=\"text-align: right;\">\n",
       "      <th></th>\n",
       "      <th>POSTED_BY</th>\n",
       "      <th>UNDER_CONSTRUCTION</th>\n",
       "      <th>RERA</th>\n",
       "      <th>BHK_NO.</th>\n",
       "      <th>BHK_OR_RK</th>\n",
       "      <th>SQUARE_FT</th>\n",
       "      <th>READY_TO_MOVE</th>\n",
       "      <th>RESALE</th>\n",
       "      <th>ADDRESS</th>\n",
       "      <th>LONGITUDE</th>\n",
       "      <th>LATITUDE</th>\n",
       "      <th>TARGET(PRICE_IN_LACS)</th>\n",
       "    </tr>\n",
       "  </thead>\n",
       "  <tbody>\n",
       "    <tr>\n",
       "      <th>0</th>\n",
       "      <td>Owner</td>\n",
       "      <td>0</td>\n",
       "      <td>0</td>\n",
       "      <td>2</td>\n",
       "      <td>BHK</td>\n",
       "      <td>1300.236407</td>\n",
       "      <td>1</td>\n",
       "      <td>1</td>\n",
       "      <td>Ksfc Layout,Bangalore</td>\n",
       "      <td>12.969910</td>\n",
       "      <td>77.597960</td>\n",
       "      <td>55.0</td>\n",
       "    </tr>\n",
       "    <tr>\n",
       "      <th>1</th>\n",
       "      <td>Dealer</td>\n",
       "      <td>0</td>\n",
       "      <td>0</td>\n",
       "      <td>2</td>\n",
       "      <td>BHK</td>\n",
       "      <td>1275.000000</td>\n",
       "      <td>1</td>\n",
       "      <td>1</td>\n",
       "      <td>Vishweshwara Nagar,Mysore</td>\n",
       "      <td>12.274538</td>\n",
       "      <td>76.644605</td>\n",
       "      <td>51.0</td>\n",
       "    </tr>\n",
       "    <tr>\n",
       "      <th>2</th>\n",
       "      <td>Owner</td>\n",
       "      <td>0</td>\n",
       "      <td>0</td>\n",
       "      <td>2</td>\n",
       "      <td>BHK</td>\n",
       "      <td>933.159722</td>\n",
       "      <td>1</td>\n",
       "      <td>1</td>\n",
       "      <td>Jigani,Bangalore</td>\n",
       "      <td>12.778033</td>\n",
       "      <td>77.632191</td>\n",
       "      <td>43.0</td>\n",
       "    </tr>\n",
       "    <tr>\n",
       "      <th>3</th>\n",
       "      <td>Owner</td>\n",
       "      <td>0</td>\n",
       "      <td>1</td>\n",
       "      <td>2</td>\n",
       "      <td>BHK</td>\n",
       "      <td>929.921143</td>\n",
       "      <td>1</td>\n",
       "      <td>1</td>\n",
       "      <td>Sector-1 Vaishali,Ghaziabad</td>\n",
       "      <td>28.642300</td>\n",
       "      <td>77.344500</td>\n",
       "      <td>62.5</td>\n",
       "    </tr>\n",
       "    <tr>\n",
       "      <th>4</th>\n",
       "      <td>Dealer</td>\n",
       "      <td>1</td>\n",
       "      <td>0</td>\n",
       "      <td>2</td>\n",
       "      <td>BHK</td>\n",
       "      <td>999.009247</td>\n",
       "      <td>0</td>\n",
       "      <td>1</td>\n",
       "      <td>New Town,Kolkata</td>\n",
       "      <td>22.592200</td>\n",
       "      <td>88.484911</td>\n",
       "      <td>60.5</td>\n",
       "    </tr>\n",
       "  </tbody>\n",
       "</table>\n",
       "</div>"
      ],
      "text/plain": [
       "  POSTED_BY  UNDER_CONSTRUCTION  RERA  BHK_NO. BHK_OR_RK    SQUARE_FT  \\\n",
       "0     Owner                   0     0        2       BHK  1300.236407   \n",
       "1    Dealer                   0     0        2       BHK  1275.000000   \n",
       "2     Owner                   0     0        2       BHK   933.159722   \n",
       "3     Owner                   0     1        2       BHK   929.921143   \n",
       "4    Dealer                   1     0        2       BHK   999.009247   \n",
       "\n",
       "   READY_TO_MOVE  RESALE                      ADDRESS  LONGITUDE   LATITUDE  \\\n",
       "0              1       1        Ksfc Layout,Bangalore  12.969910  77.597960   \n",
       "1              1       1    Vishweshwara Nagar,Mysore  12.274538  76.644605   \n",
       "2              1       1             Jigani,Bangalore  12.778033  77.632191   \n",
       "3              1       1  Sector-1 Vaishali,Ghaziabad  28.642300  77.344500   \n",
       "4              0       1             New Town,Kolkata  22.592200  88.484911   \n",
       "\n",
       "   TARGET(PRICE_IN_LACS)  \n",
       "0                   55.0  \n",
       "1                   51.0  \n",
       "2                   43.0  \n",
       "3                   62.5  \n",
       "4                   60.5  "
      ]
     },
     "execution_count": 3,
     "metadata": {},
     "output_type": "execute_result"
    }
   ],
   "source": [
    "df.head()"
   ]
  },
  {
   "cell_type": "code",
   "execution_count": 4,
   "metadata": {},
   "outputs": [
    {
     "data": {
      "text/html": [
       "<div>\n",
       "<style scoped>\n",
       "    .dataframe tbody tr th:only-of-type {\n",
       "        vertical-align: middle;\n",
       "    }\n",
       "\n",
       "    .dataframe tbody tr th {\n",
       "        vertical-align: top;\n",
       "    }\n",
       "\n",
       "    .dataframe thead th {\n",
       "        text-align: right;\n",
       "    }\n",
       "</style>\n",
       "<table border=\"1\" class=\"dataframe\">\n",
       "  <thead>\n",
       "    <tr style=\"text-align: right;\">\n",
       "      <th></th>\n",
       "      <th>UNDER_CONSTRUCTION</th>\n",
       "      <th>RERA</th>\n",
       "      <th>BHK_NO.</th>\n",
       "      <th>SQUARE_FT</th>\n",
       "      <th>READY_TO_MOVE</th>\n",
       "      <th>RESALE</th>\n",
       "      <th>LONGITUDE</th>\n",
       "      <th>LATITUDE</th>\n",
       "      <th>TARGET(PRICE_IN_LACS)</th>\n",
       "    </tr>\n",
       "  </thead>\n",
       "  <tbody>\n",
       "    <tr>\n",
       "      <th>count</th>\n",
       "      <td>29451.000000</td>\n",
       "      <td>29451.000000</td>\n",
       "      <td>29451.000000</td>\n",
       "      <td>2.945100e+04</td>\n",
       "      <td>29451.000000</td>\n",
       "      <td>29451.000000</td>\n",
       "      <td>29451.000000</td>\n",
       "      <td>29451.000000</td>\n",
       "      <td>29451.000000</td>\n",
       "    </tr>\n",
       "    <tr>\n",
       "      <th>mean</th>\n",
       "      <td>0.179756</td>\n",
       "      <td>0.317918</td>\n",
       "      <td>2.392279</td>\n",
       "      <td>1.980217e+04</td>\n",
       "      <td>0.820244</td>\n",
       "      <td>0.929578</td>\n",
       "      <td>21.300255</td>\n",
       "      <td>76.837695</td>\n",
       "      <td>142.898746</td>\n",
       "    </tr>\n",
       "    <tr>\n",
       "      <th>std</th>\n",
       "      <td>0.383991</td>\n",
       "      <td>0.465675</td>\n",
       "      <td>0.879091</td>\n",
       "      <td>1.901335e+06</td>\n",
       "      <td>0.383991</td>\n",
       "      <td>0.255861</td>\n",
       "      <td>6.205306</td>\n",
       "      <td>10.557747</td>\n",
       "      <td>656.880713</td>\n",
       "    </tr>\n",
       "    <tr>\n",
       "      <th>min</th>\n",
       "      <td>0.000000</td>\n",
       "      <td>0.000000</td>\n",
       "      <td>1.000000</td>\n",
       "      <td>3.000000e+00</td>\n",
       "      <td>0.000000</td>\n",
       "      <td>0.000000</td>\n",
       "      <td>-37.713008</td>\n",
       "      <td>-121.761248</td>\n",
       "      <td>0.250000</td>\n",
       "    </tr>\n",
       "    <tr>\n",
       "      <th>25%</th>\n",
       "      <td>0.000000</td>\n",
       "      <td>0.000000</td>\n",
       "      <td>2.000000</td>\n",
       "      <td>9.000211e+02</td>\n",
       "      <td>1.000000</td>\n",
       "      <td>1.000000</td>\n",
       "      <td>18.452663</td>\n",
       "      <td>73.798100</td>\n",
       "      <td>38.000000</td>\n",
       "    </tr>\n",
       "    <tr>\n",
       "      <th>50%</th>\n",
       "      <td>0.000000</td>\n",
       "      <td>0.000000</td>\n",
       "      <td>2.000000</td>\n",
       "      <td>1.175057e+03</td>\n",
       "      <td>1.000000</td>\n",
       "      <td>1.000000</td>\n",
       "      <td>20.750000</td>\n",
       "      <td>77.324137</td>\n",
       "      <td>62.000000</td>\n",
       "    </tr>\n",
       "    <tr>\n",
       "      <th>75%</th>\n",
       "      <td>0.000000</td>\n",
       "      <td>1.000000</td>\n",
       "      <td>3.000000</td>\n",
       "      <td>1.550688e+03</td>\n",
       "      <td>1.000000</td>\n",
       "      <td>1.000000</td>\n",
       "      <td>26.900926</td>\n",
       "      <td>77.828740</td>\n",
       "      <td>100.000000</td>\n",
       "    </tr>\n",
       "    <tr>\n",
       "      <th>max</th>\n",
       "      <td>1.000000</td>\n",
       "      <td>1.000000</td>\n",
       "      <td>20.000000</td>\n",
       "      <td>2.545455e+08</td>\n",
       "      <td>1.000000</td>\n",
       "      <td>1.000000</td>\n",
       "      <td>59.912884</td>\n",
       "      <td>152.962676</td>\n",
       "      <td>30000.000000</td>\n",
       "    </tr>\n",
       "  </tbody>\n",
       "</table>\n",
       "</div>"
      ],
      "text/plain": [
       "       UNDER_CONSTRUCTION          RERA       BHK_NO.     SQUARE_FT  \\\n",
       "count        29451.000000  29451.000000  29451.000000  2.945100e+04   \n",
       "mean             0.179756      0.317918      2.392279  1.980217e+04   \n",
       "std              0.383991      0.465675      0.879091  1.901335e+06   \n",
       "min              0.000000      0.000000      1.000000  3.000000e+00   \n",
       "25%              0.000000      0.000000      2.000000  9.000211e+02   \n",
       "50%              0.000000      0.000000      2.000000  1.175057e+03   \n",
       "75%              0.000000      1.000000      3.000000  1.550688e+03   \n",
       "max              1.000000      1.000000     20.000000  2.545455e+08   \n",
       "\n",
       "       READY_TO_MOVE        RESALE     LONGITUDE      LATITUDE  \\\n",
       "count   29451.000000  29451.000000  29451.000000  29451.000000   \n",
       "mean        0.820244      0.929578     21.300255     76.837695   \n",
       "std         0.383991      0.255861      6.205306     10.557747   \n",
       "min         0.000000      0.000000    -37.713008   -121.761248   \n",
       "25%         1.000000      1.000000     18.452663     73.798100   \n",
       "50%         1.000000      1.000000     20.750000     77.324137   \n",
       "75%         1.000000      1.000000     26.900926     77.828740   \n",
       "max         1.000000      1.000000     59.912884    152.962676   \n",
       "\n",
       "       TARGET(PRICE_IN_LACS)  \n",
       "count           29451.000000  \n",
       "mean              142.898746  \n",
       "std               656.880713  \n",
       "min                 0.250000  \n",
       "25%                38.000000  \n",
       "50%                62.000000  \n",
       "75%               100.000000  \n",
       "max             30000.000000  "
      ]
     },
     "execution_count": 4,
     "metadata": {},
     "output_type": "execute_result"
    }
   ],
   "source": [
    "df.describe()"
   ]
  },
  {
   "cell_type": "code",
   "execution_count": 5,
   "metadata": {},
   "outputs": [
    {
     "data": {
      "text/plain": [
       "<AxesSubplot:>"
      ]
     },
     "execution_count": 5,
     "metadata": {},
     "output_type": "execute_result"
    },
    {
     "data": {
      "image/png": "[encoded data removed]",
      "text/plain": [
       "<Figure size 432x288 with 1 Axes>"
      ]
     },
     "metadata": {
      "needs_background": "light"
     },
     "output_type": "display_data"
    }
   ],
   "source": [
    "# heavy tail distribution in the target.\n",
    "# note: use quantile transformation to \n",
    "df[target].hist(bins=10)"
   ]
  },
  {
   "cell_type": "code",
   "execution_count": 6,
   "metadata": {},
   "outputs": [
    {
     "data": {
      "text/plain": [
       "(29451, 12)"
      ]
     },
     "execution_count": 6,
     "metadata": {},
     "output_type": "execute_result"
    }
   ],
   "source": [
    "df.shape"
   ]
  },
  {
   "cell_type": "code",
   "execution_count": 7,
   "metadata": {},
   "outputs": [
    {
     "data": {
      "text/plain": [
       "['POSTED_BY',\n",
       " 'UNDER_CONSTRUCTION',\n",
       " 'RERA',\n",
       " 'BHK_NO.',\n",
       " 'BHK_OR_RK',\n",
       " 'SQUARE_FT',\n",
       " 'READY_TO_MOVE',\n",
       " 'RESALE',\n",
       " 'ADDRESS',\n",
       " 'LONGITUDE',\n",
       " 'LATITUDE',\n",
       " 'TARGET(PRICE_IN_LACS)']"
      ]
     },
     "execution_count": 7,
     "metadata": {},
     "output_type": "execute_result"
    }
   ],
   "source": [
    "df.columns.tolist()"
   ]
  },
  {
   "cell_type": "code",
   "execution_count": 8,
   "metadata": {},
   "outputs": [
    {
     "data": {
      "text/plain": [
       "POSTED_BY                0\n",
       "UNDER_CONSTRUCTION       0\n",
       "RERA                     0\n",
       "BHK_NO.                  0\n",
       "BHK_OR_RK                0\n",
       "SQUARE_FT                0\n",
       "READY_TO_MOVE            0\n",
       "RESALE                   0\n",
       "ADDRESS                  0\n",
       "LONGITUDE                0\n",
       "LATITUDE                 0\n",
       "TARGET(PRICE_IN_LACS)    0\n",
       "dtype: int64"
      ]
     },
     "execution_count": 8,
     "metadata": {},
     "output_type": "execute_result"
    }
   ],
   "source": [
    "df.isnull().sum()"
   ]
  },
  {
   "cell_type": "code",
   "execution_count": 9,
   "metadata": {},
   "outputs": [
    {
     "data": {
      "text/plain": [
       "(4, 7)"
      ]
     },
     "execution_count": 9,
     "metadata": {},
     "output_type": "execute_result"
    }
   ],
   "source": [
    "numerical_features = ['BHK_NO.', 'SQUARE_FT', 'LONGITUDE', 'LATITUDE']\n",
    "categorical_features = ['POSTED_BY','UNDER_CONSTRUCTION', 'RERA', 'BHK_OR_RK', \n",
    "                        'READY_TO_MOVE', 'RESALE', 'ADDRESS']\n",
    "len(numerical_features), len(categorical_features)"
   ]
  },
  {
   "cell_type": "code",
   "execution_count": 10,
   "metadata": {},
   "outputs": [
    {
     "data": {
      "text/html": [
       "<div>\n",
       "<style scoped>\n",
       "    .dataframe tbody tr th:only-of-type {\n",
       "        vertical-align: middle;\n",
       "    }\n",
       "\n",
       "    .dataframe tbody tr th {\n",
       "        vertical-align: top;\n",
       "    }\n",
       "\n",
       "    .dataframe thead th {\n",
       "        text-align: right;\n",
       "    }\n",
       "</style>\n",
       "<table border=\"1\" class=\"dataframe\">\n",
       "  <thead>\n",
       "    <tr style=\"text-align: right;\">\n",
       "      <th></th>\n",
       "      <th>BHK_NO.</th>\n",
       "      <th>SQUARE_FT</th>\n",
       "      <th>LONGITUDE</th>\n",
       "      <th>LATITUDE</th>\n",
       "    </tr>\n",
       "  </thead>\n",
       "  <tbody>\n",
       "    <tr>\n",
       "      <th>count</th>\n",
       "      <td>29451.000000</td>\n",
       "      <td>2.945100e+04</td>\n",
       "      <td>29451.000000</td>\n",
       "      <td>29451.000000</td>\n",
       "    </tr>\n",
       "    <tr>\n",
       "      <th>mean</th>\n",
       "      <td>2.392279</td>\n",
       "      <td>1.980217e+04</td>\n",
       "      <td>21.300255</td>\n",
       "      <td>76.837695</td>\n",
       "    </tr>\n",
       "    <tr>\n",
       "      <th>std</th>\n",
       "      <td>0.879091</td>\n",
       "      <td>1.901335e+06</td>\n",
       "      <td>6.205306</td>\n",
       "      <td>10.557747</td>\n",
       "    </tr>\n",
       "    <tr>\n",
       "      <th>min</th>\n",
       "      <td>1.000000</td>\n",
       "      <td>3.000000e+00</td>\n",
       "      <td>-37.713008</td>\n",
       "      <td>-121.761248</td>\n",
       "    </tr>\n",
       "    <tr>\n",
       "      <th>25%</th>\n",
       "      <td>2.000000</td>\n",
       "      <td>9.000211e+02</td>\n",
       "      <td>18.452663</td>\n",
       "      <td>73.798100</td>\n",
       "    </tr>\n",
       "    <tr>\n",
       "      <th>50%</th>\n",
       "      <td>2.000000</td>\n",
       "      <td>1.175057e+03</td>\n",
       "      <td>20.750000</td>\n",
       "      <td>77.324137</td>\n",
       "    </tr>\n",
       "    <tr>\n",
       "      <th>75%</th>\n",
       "      <td>3.000000</td>\n",
       "      <td>1.550688e+03</td>\n",
       "      <td>26.900926</td>\n",
       "      <td>77.828740</td>\n",
       "    </tr>\n",
       "    <tr>\n",
       "      <th>max</th>\n",
       "      <td>20.000000</td>\n",
       "      <td>2.545455e+08</td>\n",
       "      <td>59.912884</td>\n",
       "      <td>152.962676</td>\n",
       "    </tr>\n",
       "  </tbody>\n",
       "</table>\n",
       "</div>"
      ],
      "text/plain": [
       "            BHK_NO.     SQUARE_FT     LONGITUDE      LATITUDE\n",
       "count  29451.000000  2.945100e+04  29451.000000  29451.000000\n",
       "mean       2.392279  1.980217e+04     21.300255     76.837695\n",
       "std        0.879091  1.901335e+06      6.205306     10.557747\n",
       "min        1.000000  3.000000e+00    -37.713008   -121.761248\n",
       "25%        2.000000  9.000211e+02     18.452663     73.798100\n",
       "50%        2.000000  1.175057e+03     20.750000     77.324137\n",
       "75%        3.000000  1.550688e+03     26.900926     77.828740\n",
       "max       20.000000  2.545455e+08     59.912884    152.962676"
      ]
     },
     "execution_count": 10,
     "metadata": {},
     "output_type": "execute_result"
    }
   ],
   "source": [
    "df[numerical_features].describe()"
   ]
  },
  {
   "cell_type": "code",
   "execution_count": 11,
   "metadata": {},
   "outputs": [
    {
     "data": {
      "text/html": [
       "<div>\n",
       "<style scoped>\n",
       "    .dataframe tbody tr th:only-of-type {\n",
       "        vertical-align: middle;\n",
       "    }\n",
       "\n",
       "    .dataframe tbody tr th {\n",
       "        vertical-align: top;\n",
       "    }\n",
       "\n",
       "    .dataframe thead th {\n",
       "        text-align: right;\n",
       "    }\n",
       "</style>\n",
       "<table border=\"1\" class=\"dataframe\">\n",
       "  <thead>\n",
       "    <tr style=\"text-align: right;\">\n",
       "      <th></th>\n",
       "      <th>UNDER_CONSTRUCTION</th>\n",
       "      <th>RERA</th>\n",
       "      <th>READY_TO_MOVE</th>\n",
       "      <th>RESALE</th>\n",
       "    </tr>\n",
       "  </thead>\n",
       "  <tbody>\n",
       "    <tr>\n",
       "      <th>count</th>\n",
       "      <td>29451.000000</td>\n",
       "      <td>29451.000000</td>\n",
       "      <td>29451.000000</td>\n",
       "      <td>29451.000000</td>\n",
       "    </tr>\n",
       "    <tr>\n",
       "      <th>mean</th>\n",
       "      <td>0.179756</td>\n",
       "      <td>0.317918</td>\n",
       "      <td>0.820244</td>\n",
       "      <td>0.929578</td>\n",
       "    </tr>\n",
       "    <tr>\n",
       "      <th>std</th>\n",
       "      <td>0.383991</td>\n",
       "      <td>0.465675</td>\n",
       "      <td>0.383991</td>\n",
       "      <td>0.255861</td>\n",
       "    </tr>\n",
       "    <tr>\n",
       "      <th>min</th>\n",
       "      <td>0.000000</td>\n",
       "      <td>0.000000</td>\n",
       "      <td>0.000000</td>\n",
       "      <td>0.000000</td>\n",
       "    </tr>\n",
       "    <tr>\n",
       "      <th>25%</th>\n",
       "      <td>0.000000</td>\n",
       "      <td>0.000000</td>\n",
       "      <td>1.000000</td>\n",
       "      <td>1.000000</td>\n",
       "    </tr>\n",
       "    <tr>\n",
       "      <th>50%</th>\n",
       "      <td>0.000000</td>\n",
       "      <td>0.000000</td>\n",
       "      <td>1.000000</td>\n",
       "      <td>1.000000</td>\n",
       "    </tr>\n",
       "    <tr>\n",
       "      <th>75%</th>\n",
       "      <td>0.000000</td>\n",
       "      <td>1.000000</td>\n",
       "      <td>1.000000</td>\n",
       "      <td>1.000000</td>\n",
       "    </tr>\n",
       "    <tr>\n",
       "      <th>max</th>\n",
       "      <td>1.000000</td>\n",
       "      <td>1.000000</td>\n",
       "      <td>1.000000</td>\n",
       "      <td>1.000000</td>\n",
       "    </tr>\n",
       "  </tbody>\n",
       "</table>\n",
       "</div>"
      ],
      "text/plain": [
       "       UNDER_CONSTRUCTION          RERA  READY_TO_MOVE        RESALE\n",
       "count        29451.000000  29451.000000   29451.000000  29451.000000\n",
       "mean             0.179756      0.317918       0.820244      0.929578\n",
       "std              0.383991      0.465675       0.383991      0.255861\n",
       "min              0.000000      0.000000       0.000000      0.000000\n",
       "25%              0.000000      0.000000       1.000000      1.000000\n",
       "50%              0.000000      0.000000       1.000000      1.000000\n",
       "75%              0.000000      1.000000       1.000000      1.000000\n",
       "max              1.000000      1.000000       1.000000      1.000000"
      ]
     },
     "execution_count": 11,
     "metadata": {},
     "output_type": "execute_result"
    }
   ],
   "source": [
    "df[categorical_features].describe()"
   ]
  },
  {
   "cell_type": "code",
   "execution_count": 26,
   "metadata": {},
   "outputs": [
    {
     "data": {
      "text/plain": [
       "BHK_NO.                  0.112283\n",
       "SQUARE_FT                0.402685\n",
       "LONGITUDE               -0.031112\n",
       "LATITUDE                -0.017254\n",
       "TARGET(PRICE_IN_LACS)    1.000000\n",
       "Name: TARGET(PRICE_IN_LACS), dtype: float64"
      ]
     },
     "execution_count": 26,
     "metadata": {},
     "output_type": "execute_result"
    }
   ],
   "source": [
    "df[numerical_features + [target]].corr()[target]"
   ]
  },
  {
   "cell_type": "code",
   "execution_count": 15,
   "metadata": {},
   "outputs": [
    {
     "data": {
      "image/png": "[encoded data removed]",
      "text/plain": [
       "<Figure size 432x288 with 2 Axes>"
      ]
     },
     "metadata": {
      "needs_background": "light"
     },
     "output_type": "display_data"
    }
   ],
   "source": [
    "\n",
    "ax = sns.heatmap(\n",
    "    df[numerical_features + [target]].corr(), \n",
    "    vmin=-1, vmax=1, center=0,\n",
    "    cmap=sns.diverging_palette(20, 220, n=200),\n",
    "    square=True\n",
    ")\n",
    "ax.set_xticklabels(\n",
    "    ax.get_xticklabels(),\n",
    "    rotation=45,\n",
    "    horizontalalignment='right'\n",
    ");\n"
   ]
  },
  {
   "cell_type": "code",
   "execution_count": null,
   "metadata": {},
   "outputs": [],
   "source": []
  }
 ],
 "metadata": {
  "kernelspec": {
   "display_name": "Python 3",
   "language": "python",
   "name": "python3"
  },
  "language_info": {
   "codemirror_mode": {
    "name": "ipython",
    "version": 3
   },
   "file_extension": ".py",
   "mimetype": "text/x-python",
   "name": "python",
   "nbconvert_exporter": "python",
   "pygments_lexer": "ipython3",
   "version": "3.6.10"
  }
 },
 "nbformat": 4,
 "nbformat_minor": 4
}
